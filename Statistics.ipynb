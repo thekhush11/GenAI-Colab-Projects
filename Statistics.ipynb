{
  "nbformat": 4,
  "nbformat_minor": 0,
  "metadata": {
    "colab": {
      "provenance": [],
      "authorship_tag": "ABX9TyMlQ1/tUm1m7hVchmH4eH3R",
      "include_colab_link": true
    },
    "kernelspec": {
      "name": "python3",
      "display_name": "Python 3"
    },
    "language_info": {
      "name": "python"
    }
  },
  "cells": [
    {
      "cell_type": "markdown",
      "metadata": {
        "id": "view-in-github",
        "colab_type": "text"
      },
      "source": [
        "<a href=\"https://colab.research.google.com/github/thekhush11/GenAI-Colab-Projects/blob/main/Statistics.ipynb\" target=\"_parent\"><img src=\"https://colab.research.google.com/assets/colab-badge.svg\" alt=\"Open In Colab\"/></a>"
      ]
    },
    {
      "cell_type": "markdown",
      "source": [
        "14/07/2025\n",
        "\n",
        "Mean\n",
        "* Weighted Mean"
      ],
      "metadata": {
        "id": "HTaCx5ogF-Sd"
      }
    },
    {
      "cell_type": "code",
      "execution_count": null,
      "metadata": {
        "colab": {
          "base_uri": "https://localhost:8080/"
        },
        "id": "DEbqvGmdEps1",
        "outputId": "8a8abb45-1200-4f8e-b0a3-0e523a24d95c"
      },
      "outputs": [
        {
          "output_type": "stream",
          "name": "stdout",
          "text": [
            "wt:  [0.5, 1, 8, 0.4]\n",
            "data:  [20, 100, 3, 40]\n",
            "prod:  [ 10. 100.  24.  16.]\n",
            "<class 'numpy.ndarray'>\n",
            "sum of product of wt and data:  150.0\n",
            "<class 'numpy.float64'>\n",
            "weighted mean:  15.15151515151515\n",
            "Weighted mean using function: 15.15151515151515\n",
            "Weighted mean using direct function: 15.15151515151515\n"
          ]
        }
      ],
      "source": [
        "import numpy\n",
        "import statistics\n",
        "\n",
        "wt = [.5, 1, 8, .4]\n",
        "data = [20, 100, 3, 40]\n",
        "\n",
        "prod = numpy.multiply(data,wt)\n",
        "print(\"wt: \", wt)\n",
        "print(\"data: \", data)\n",
        "print(\"prod: \", prod)\n",
        "print(type(prod))\n",
        "sum = numpy.sum(prod)\n",
        "print(\"sum of product of wt and data: \", sum)\n",
        "print(type(sum))\n",
        "wtm = sum/numpy.sum(wt)\n",
        "print(\"weighted mean: \", wtm)\n",
        "#Use direct method in numpy for mean\n",
        "wtm1 = numpy.average(data, weights = wt)\n",
        "print(\"Weighted mean using function:\" ,wtm1)\n",
        "#Use direct method available in statistics\n",
        "a = numpy.mean(data)\n",
        "b = statistics.fmean(data, weights = wt)\n",
        "print(\"Weighted mean using direct function:\" ,b)"
      ]
    },
    {
      "cell_type": "markdown",
      "source": [
        "Median for Grouped Data"
      ],
      "metadata": {
        "id": "v7d3VJRoXL39"
      }
    },
    {
      "cell_type": "code",
      "source": [
        "#If the number of observation is odd then the Median value (After arranging all observation in ascending or descending order)\n",
        "#If the number of observation are even the meadian is arthematic mean of the middle most two observation."
      ],
      "metadata": {
        "id": "uFEkDJpWF7zW"
      },
      "execution_count": null,
      "outputs": []
    },
    {
      "cell_type": "code",
      "source": [
        "import collections\n",
        "a = [100, 200,300,100,200,300,400,500,300,700,800,900,1000,800]\n",
        "b = numpy.sort(a)\n",
        "print(\"list a: \", a)\n",
        "print(type(b))\n",
        "\n",
        "c = collections.Counter(b) # Counter will return dict of key and values and order will be random so, no need to provide sorted input\n",
        "print('type(c): ', type(c))\n",
        "print('type(c.keys()): ',type(c.keys()), 'type(c.values()): ', type(c.values()))\n",
        "uniqueList, frequencyList = list(c.keys()), list(c.values())\n",
        "print('Unique List of Data: ', uniqueList)\n",
        "print('Frequency List of Data: ', frequencyList)\n",
        "\n",
        "cumSumOfFreq = numpy.cumsum(frequencyList)\n",
        "print('Cumulative Frequency List: ', cumSumOfFreq)\n",
        "print(len(cumSumOfFreq))\n",
        "lastElement = cumSumOfFreq[len(cumSumOfFreq)-1]\n",
        "\n",
        "print('Last Element of cumulative sum list of frequency: ', lastElement)\n",
        "print(type(lastElement))\n",
        "j = lastElement/2\n",
        "median_index = 0\n",
        "for i in range(len(cumSumOfFreq)):\n",
        "    if cumSumOfFreq[i] >= j:\n",
        "        median_index = i\n",
        "        break\n",
        "median_value_freq_dist = uniqueList[median_index]\n",
        "print('Median Value (from frequency distribution): ', median_value_freq_dist)\n",
        "\n",
        "\n",
        "# --- Comparison with Statistics module functions ---\n",
        "print(\"\\n--- Comparison with Python's statistics module ---\")\n",
        "# Recommended for ungrouped, discrete data\n",
        "print ('Median of the list a using statistics.median(): ', statistics.median(a))\n",
        "\n",
        "# For grouped continuous data (this is why it was different before)\n",
        "print ('Median of the list a using statistics.median_grouped(): ', statistics.median_grouped(a))"
      ],
      "metadata": {
        "colab": {
          "base_uri": "https://localhost:8080/"
        },
        "id": "OgAywh8RJ6Xq",
        "outputId": "386f9f21-1d65-4801-a771-b30ac454eeea"
      },
      "execution_count": null,
      "outputs": [
        {
          "output_type": "stream",
          "name": "stdout",
          "text": [
            "list a:  [100, 200, 300, 100, 200, 300, 400, 500, 300, 700, 800, 900, 1000, 800]\n",
            "<class 'numpy.ndarray'>\n",
            "type(c):  <class 'collections.Counter'>\n",
            "type(c.keys()):  <class 'dict_keys'> type(c.values()):  <class 'dict_values'>\n",
            "Unique List of Data:  [np.int64(100), np.int64(200), np.int64(300), np.int64(400), np.int64(500), np.int64(700), np.int64(800), np.int64(900), np.int64(1000)]\n",
            "Frequency List of Data:  [2, 2, 3, 1, 1, 1, 2, 1, 1]\n",
            "Cumulative Frequency List:  [ 2  4  7  8  9 10 12 13 14]\n",
            "9\n",
            "Last Element of cumulative sum list of frequency:  14\n",
            "<class 'numpy.int64'>\n",
            "Median Value (from frequency distribution):  300\n",
            "\n",
            "--- Comparison with Python's statistics module ---\n",
            "Median of the list a using statistics.median():  350.0\n",
            "Median of the list a using statistics.median_grouped():  399.5\n"
          ]
        }
      ]
    },
    {
      "cell_type": "markdown",
      "source": [
        "15/07/2025\n",
        "* Spread is the measure of the extent for all observations deviated from its central tendency (Mean)"
      ],
      "metadata": {
        "id": "2AKSgmzpGkSl"
      }
    },
    {
      "cell_type": "markdown",
      "source": [
        "Calcukate Standard Deviation and Veriance"
      ],
      "metadata": {
        "id": "LwK8MWtxQH-9"
      }
    },
    {
      "cell_type": "code",
      "source": [
        "import numpy\n",
        "import statistics\n",
        "a = [10,2,40,35]\n",
        "print('list: ', a)\n",
        "#Steps to calculate Variance and Standard Deviation"
      ],
      "metadata": {
        "id": "mzpK-OlnUCPV",
        "colab": {
          "base_uri": "https://localhost:8080/"
        },
        "outputId": "5834ad8e-69d8-42a5-82ba-98cbbe05c6a4"
      },
      "execution_count": null,
      "outputs": [
        {
          "output_type": "stream",
          "name": "stdout",
          "text": [
            "list:  [10, 2, 40, 35]\n"
          ]
        }
      ]
    },
    {
      "cell_type": "code",
      "source": [
        "mean = numpy.mean(a)\n",
        "print ('Mean of list: ', mean)\n",
        "\n",
        "diff = numpy.subtract(a,mean)\n",
        "print('\\ndifference list of data set and mean: ', diff)\n",
        "\n",
        "sqlist = numpy.square(diff)\n",
        "print('\\nSquared difference list: ', sqlist)\n",
        "\n",
        "var = statistics.mean(sqlist)\n",
        "print('\\nVariance: ', var)\n",
        "\n",
        "std = numpy.sqrt(var)\n",
        "print('\\nStandard Deviation: ', std)\n",
        "\n",
        "#Variance with direct function\n",
        "var1 = statistics.pvariance(a)\n",
        "print('\\nVariance using direct function: ', var1)\n",
        "\n",
        "#Standard Deviation with direct function\n",
        "std1 = statistics.pstdev(a)\n",
        "print('\\nStandard Deviation using direct function: ', std1)"
      ],
      "metadata": {
        "colab": {
          "base_uri": "https://localhost:8080/"
        },
        "id": "UjqV7Qg9Q1H1",
        "outputId": "47a57a7b-436d-48c9-d788-0cbd43f712a1"
      },
      "execution_count": null,
      "outputs": [
        {
          "output_type": "stream",
          "name": "stdout",
          "text": [
            "Mean of list:  21.75\n",
            "\n",
            "difference list of data set and mean:  [-11.75 -19.75  18.25  13.25]\n",
            "\n",
            "Squared difference list:  [138.0625 390.0625 333.0625 175.5625]\n",
            "\n",
            "Variance:  259.1875\n",
            "\n",
            "Standard Deviation:  16.099301227071937\n",
            "\n",
            "Variance using direct function:  259.1875\n",
            "\n",
            "Standard Deviation using direct function:  16.099301227071937\n"
          ]
        }
      ]
    },
    {
      "cell_type": "code",
      "source": [],
      "metadata": {
        "id": "7t41GX7pSNtR"
      },
      "execution_count": null,
      "outputs": []
    }
  ]
}