{
  "nbformat": 4,
  "nbformat_minor": 0,
  "metadata": {
    "colab": {
      "provenance": [],
      "authorship_tag": "ABX9TyMBIueWw1KNdcZAl5onHLF3",
      "include_colab_link": true
    },
    "kernelspec": {
      "name": "python3",
      "display_name": "Python 3"
    },
    "language_info": {
      "name": "python"
    }
  },
  "cells": [
    {
      "cell_type": "markdown",
      "metadata": {
        "id": "view-in-github",
        "colab_type": "text"
      },
      "source": [
        "<a href=\"https://colab.research.google.com/github/thekhush11/GenAI-Colab-Projects/blob/main/numpy.ipynb\" target=\"_parent\"><img src=\"https://colab.research.google.com/assets/colab-badge.svg\" alt=\"Open In Colab\"/></a>"
      ]
    },
    {
      "cell_type": "markdown",
      "source": [
        "03/07/2025"
      ],
      "metadata": {
        "id": "dKRDTt13bE17"
      }
    },
    {
      "cell_type": "code",
      "source": [
        "mylist = [1, 2, 3]\n",
        "print(mylist)\n",
        "print(type(mylist))"
      ],
      "metadata": {
        "colab": {
          "base_uri": "https://localhost:8080/"
        },
        "id": "ODXxit8LfqCv",
        "outputId": "c12e7868-d6e7-49c5-e979-b73ef97a6e7e"
      },
      "execution_count": null,
      "outputs": [
        {
          "output_type": "stream",
          "name": "stdout",
          "text": [
            "[1, 2, 3]\n",
            "<class 'list'>\n"
          ]
        }
      ]
    },
    {
      "cell_type": "code",
      "source": [
        "import numpy as np\n",
        "myNpList = np.array(mylist)\n",
        "print(myNpList)\n",
        "print(type(myNpList))"
      ],
      "metadata": {
        "colab": {
          "base_uri": "https://localhost:8080/"
        },
        "id": "rVPOT2qffo9O",
        "outputId": "eaa09054-9b2a-4178-eff0-ebcda75de1a5"
      },
      "execution_count": null,
      "outputs": [
        {
          "output_type": "stream",
          "name": "stdout",
          "text": [
            "[1 2 3]\n",
            "<class 'numpy.ndarray'>\n"
          ]
        }
      ]
    },
    {
      "cell_type": "code",
      "execution_count": null,
      "metadata": {
        "colab": {
          "base_uri": "https://localhost:8080/"
        },
        "id": "MjesFL7metrO",
        "outputId": "69d69f84-cc6c-4f2c-c8fe-567880af5fd1"
      },
      "outputs": [
        {
          "output_type": "execute_result",
          "data": {
            "text/plain": [
              "list"
            ]
          },
          "metadata": {},
          "execution_count": 173
        }
      ],
      "source": [
        "sample_list_of_list = ([[1,2,3],[4,5,6],[7,8,9]])\n",
        "type(sample_list_of_list)"
      ]
    },
    {
      "cell_type": "code",
      "source": [
        "sample_matrix = np.array(sample_list_of_list)\n",
        "sample_list_of_list"
      ],
      "metadata": {
        "colab": {
          "base_uri": "https://localhost:8080/"
        },
        "id": "EU1kwtROe6k7",
        "outputId": "9038f09f-4f3a-45bc-8f7b-0e78b9b499ef"
      },
      "execution_count": null,
      "outputs": [
        {
          "output_type": "execute_result",
          "data": {
            "text/plain": [
              "[[1, 2, 3], [4, 5, 6], [7, 8, 9]]"
            ]
          },
          "metadata": {},
          "execution_count": 174
        }
      ]
    },
    {
      "cell_type": "code",
      "source": [
        "np.arange(2,20,3)"
      ],
      "metadata": {
        "colab": {
          "base_uri": "https://localhost:8080/"
        },
        "id": "Bi2awPKCf0zF",
        "outputId": "e08d3289-2e8b-44d6-ef4a-40a6f9cc4f4b"
      },
      "execution_count": null,
      "outputs": [
        {
          "output_type": "execute_result",
          "data": {
            "text/plain": [
              "array([ 2,  5,  8, 11, 14, 17])"
            ]
          },
          "metadata": {},
          "execution_count": 175
        }
      ]
    },
    {
      "cell_type": "code",
      "source": [
        "a = np.arange(25)\n",
        "a"
      ],
      "metadata": {
        "colab": {
          "base_uri": "https://localhost:8080/"
        },
        "id": "topiZ7PYf55q",
        "outputId": "408ae2ea-a046-441a-c0fc-f98f9048416d"
      },
      "execution_count": null,
      "outputs": [
        {
          "output_type": "execute_result",
          "data": {
            "text/plain": [
              "array([ 0,  1,  2,  3,  4,  5,  6,  7,  8,  9, 10, 11, 12, 13, 14, 15, 16,\n",
              "       17, 18, 19, 20, 21, 22, 23, 24])"
            ]
          },
          "metadata": {},
          "execution_count": 176
        }
      ]
    },
    {
      "cell_type": "code",
      "source": [
        "a.reshape(5,5)"
      ],
      "metadata": {
        "colab": {
          "base_uri": "https://localhost:8080/"
        },
        "id": "sbDz85YGgBJ6",
        "outputId": "06ba6a61-93e5-4b15-8909-918ec7782d32"
      },
      "execution_count": null,
      "outputs": [
        {
          "output_type": "execute_result",
          "data": {
            "text/plain": [
              "array([[ 0,  1,  2,  3,  4],\n",
              "       [ 5,  6,  7,  8,  9],\n",
              "       [10, 11, 12, 13, 14],\n",
              "       [15, 16, 17, 18, 19],\n",
              "       [20, 21, 22, 23, 24]])"
            ]
          },
          "metadata": {},
          "execution_count": 177
        }
      ]
    },
    {
      "cell_type": "code",
      "source": [
        "np.zeros(2)"
      ],
      "metadata": {
        "colab": {
          "base_uri": "https://localhost:8080/"
        },
        "id": "dTdsC0HVhdaQ",
        "outputId": "9ef58750-0fa6-436b-e75e-d6e3f7610022"
      },
      "execution_count": null,
      "outputs": [
        {
          "output_type": "execute_result",
          "data": {
            "text/plain": [
              "array([0., 0.])"
            ]
          },
          "metadata": {},
          "execution_count": 178
        }
      ]
    },
    {
      "cell_type": "code",
      "source": [
        "np.zeros((4,4))"
      ],
      "metadata": {
        "colab": {
          "base_uri": "https://localhost:8080/"
        },
        "id": "a-zqI1QVkzvN",
        "outputId": "93c5d569-ae00-475b-a981-0d1ab2d5459c"
      },
      "execution_count": null,
      "outputs": [
        {
          "output_type": "execute_result",
          "data": {
            "text/plain": [
              "array([[0., 0., 0., 0.],\n",
              "       [0., 0., 0., 0.],\n",
              "       [0., 0., 0., 0.],\n",
              "       [0., 0., 0., 0.]])"
            ]
          },
          "metadata": {},
          "execution_count": 179
        }
      ]
    },
    {
      "cell_type": "code",
      "source": [
        "np.ones(5)"
      ],
      "metadata": {
        "colab": {
          "base_uri": "https://localhost:8080/"
        },
        "id": "idDMoPskihsE",
        "outputId": "783d58e2-44da-4f64-8f54-1bfeb029b19c"
      },
      "execution_count": null,
      "outputs": [
        {
          "output_type": "execute_result",
          "data": {
            "text/plain": [
              "array([1., 1., 1., 1., 1.])"
            ]
          },
          "metadata": {},
          "execution_count": 180
        }
      ]
    },
    {
      "cell_type": "code",
      "source": [
        "np.ones((5,5))"
      ],
      "metadata": {
        "colab": {
          "base_uri": "https://localhost:8080/"
        },
        "id": "VnRZnfQykhk4",
        "outputId": "f15f1fd2-8c36-4380-8a57-55aac0c54b12"
      },
      "execution_count": null,
      "outputs": [
        {
          "output_type": "execute_result",
          "data": {
            "text/plain": [
              "array([[1., 1., 1., 1., 1.],\n",
              "       [1., 1., 1., 1., 1.],\n",
              "       [1., 1., 1., 1., 1.],\n",
              "       [1., 1., 1., 1., 1.],\n",
              "       [1., 1., 1., 1., 1.]])"
            ]
          },
          "metadata": {},
          "execution_count": 181
        }
      ]
    },
    {
      "cell_type": "code",
      "source": [
        "np.linspace(0,5,10)"
      ],
      "metadata": {
        "colab": {
          "base_uri": "https://localhost:8080/"
        },
        "id": "qRlPuj4aklUL",
        "outputId": "4cdfdb31-7bda-46a3-9902-834e77247eb2"
      },
      "execution_count": null,
      "outputs": [
        {
          "output_type": "execute_result",
          "data": {
            "text/plain": [
              "array([0.        , 0.55555556, 1.11111111, 1.66666667, 2.22222222,\n",
              "       2.77777778, 3.33333333, 3.88888889, 4.44444444, 5.        ])"
            ]
          },
          "metadata": {},
          "execution_count": 182
        }
      ]
    },
    {
      "cell_type": "code",
      "source": [
        "np.eye(3)"
      ],
      "metadata": {
        "colab": {
          "base_uri": "https://localhost:8080/"
        },
        "id": "ACEZRQuNpTEb",
        "outputId": "d4ff4cc6-d569-42a0-e85e-96f3a0f9d5bb"
      },
      "execution_count": null,
      "outputs": [
        {
          "output_type": "execute_result",
          "data": {
            "text/plain": [
              "array([[1., 0., 0.],\n",
              "       [0., 1., 0.],\n",
              "       [0., 0., 1.]])"
            ]
          },
          "metadata": {},
          "execution_count": 183
        }
      ]
    },
    {
      "cell_type": "code",
      "source": [
        "np.eye(4,5)"
      ],
      "metadata": {
        "colab": {
          "base_uri": "https://localhost:8080/"
        },
        "id": "hf_KO9a8pXxd",
        "outputId": "4634f1db-d5e9-4b40-d85f-be0306d2dd3b"
      },
      "execution_count": null,
      "outputs": [
        {
          "output_type": "execute_result",
          "data": {
            "text/plain": [
              "array([[1., 0., 0., 0., 0.],\n",
              "       [0., 1., 0., 0., 0.],\n",
              "       [0., 0., 1., 0., 0.],\n",
              "       [0., 0., 0., 1., 0.]])"
            ]
          },
          "metadata": {},
          "execution_count": 184
        }
      ]
    },
    {
      "cell_type": "code",
      "source": [
        "c = np.random.rand(4)\n",
        "type(c)"
      ],
      "metadata": {
        "colab": {
          "base_uri": "https://localhost:8080/"
        },
        "id": "q6ABApoPq13-",
        "outputId": "22b22de1-e145-4e9d-d515-b3eea01dd9dc"
      },
      "execution_count": null,
      "outputs": [
        {
          "output_type": "execute_result",
          "data": {
            "text/plain": [
              "numpy.ndarray"
            ]
          },
          "metadata": {},
          "execution_count": 185
        }
      ]
    },
    {
      "cell_type": "code",
      "source": [
        "np.random.rand(3,4,5)"
      ],
      "metadata": {
        "colab": {
          "base_uri": "https://localhost:8080/"
        },
        "id": "CvCLwYHIrHsD",
        "outputId": "3455121d-461e-4ed6-f121-16b1afdd8b91"
      },
      "execution_count": null,
      "outputs": [
        {
          "output_type": "execute_result",
          "data": {
            "text/plain": [
              "array([[[0.13381342, 0.58346195, 0.12573099, 0.76773653, 0.59420706],\n",
              "        [0.61720211, 0.39433413, 0.57538314, 0.01696323, 0.59687146],\n",
              "        [0.49222822, 0.50824011, 0.54241397, 0.04581505, 0.44333118],\n",
              "        [0.12776222, 0.84429043, 0.77730312, 0.79660943, 0.58240291]],\n",
              "\n",
              "       [[0.87603226, 0.3817519 , 0.02701328, 0.15113748, 0.83905701],\n",
              "        [0.33772722, 0.38630614, 0.05523366, 0.31106816, 0.02163736],\n",
              "        [0.26077015, 0.46161267, 0.92730178, 0.79755845, 0.14487601],\n",
              "        [0.7804876 , 0.13212649, 0.96353844, 0.0622815 , 0.2959941 ]],\n",
              "\n",
              "       [[0.3398992 , 0.55092046, 0.03120535, 0.67150106, 0.87004978],\n",
              "        [0.40534388, 0.46796289, 0.15441191, 0.80179575, 0.35779503],\n",
              "        [0.31069268, 0.0460861 , 0.55667   , 0.12368701, 0.24834062],\n",
              "        [0.16484599, 0.63229807, 0.52452552, 0.57068629, 0.36595047]]])"
            ]
          },
          "metadata": {},
          "execution_count": 186
        }
      ]
    },
    {
      "cell_type": "code",
      "source": [
        "#This random.rand function generate uniformly distributed number from 0 to 1"
      ],
      "metadata": {
        "id": "WvxKWyOYra1E"
      },
      "execution_count": null,
      "outputs": []
    },
    {
      "cell_type": "markdown",
      "source": [
        "Normal Distribution center arount 0"
      ],
      "metadata": {
        "id": "nq0GPHw_s_yC"
      }
    },
    {
      "cell_type": "code",
      "source": [
        "b = np.random.randn(3,4)\n",
        "b"
      ],
      "metadata": {
        "colab": {
          "base_uri": "https://localhost:8080/"
        },
        "id": "2gn5naBTruwd",
        "outputId": "de3a6233-4fc0-42b3-fbe4-d48cd890c616"
      },
      "execution_count": null,
      "outputs": [
        {
          "output_type": "execute_result",
          "data": {
            "text/plain": [
              "array([[-0.87207258,  1.07778424, -0.52520092,  2.54215564],\n",
              "       [-0.17845897, -2.1872946 , -0.14402735,  0.20171941],\n",
              "       [ 1.31192357,  0.79930421, -0.7019324 , -1.18720954]])"
            ]
          },
          "metadata": {},
          "execution_count": 188
        }
      ]
    },
    {
      "cell_type": "code",
      "source": [
        "type(b)"
      ],
      "metadata": {
        "colab": {
          "base_uri": "https://localhost:8080/"
        },
        "id": "vtqOgvwOr7uf",
        "outputId": "88c56a97-cacd-4139-a37f-e3f03ec0143f"
      },
      "execution_count": null,
      "outputs": [
        {
          "output_type": "execute_result",
          "data": {
            "text/plain": [
              "numpy.ndarray"
            ]
          },
          "metadata": {},
          "execution_count": 189
        }
      ]
    },
    {
      "cell_type": "code",
      "source": [
        "b.shape"
      ],
      "metadata": {
        "colab": {
          "base_uri": "https://localhost:8080/"
        },
        "id": "09t5brBxsFwL",
        "outputId": "ed967d90-b745-4f34-947a-0612032800db"
      },
      "execution_count": null,
      "outputs": [
        {
          "output_type": "execute_result",
          "data": {
            "text/plain": [
              "(3, 4)"
            ]
          },
          "metadata": {},
          "execution_count": 190
        }
      ]
    },
    {
      "cell_type": "code",
      "source": [
        "b.dtype"
      ],
      "metadata": {
        "colab": {
          "base_uri": "https://localhost:8080/"
        },
        "id": "2HztzWsJs55N",
        "outputId": "963e0562-ecbd-4f4e-83f5-9c293f71b5e6"
      },
      "execution_count": null,
      "outputs": [
        {
          "output_type": "execute_result",
          "data": {
            "text/plain": [
              "dtype('float64')"
            ]
          },
          "metadata": {},
          "execution_count": 191
        }
      ]
    },
    {
      "cell_type": "code",
      "source": [
        "random_arr = np.random.randint(10, 50, 5)\n",
        "random_arr"
      ],
      "metadata": {
        "colab": {
          "base_uri": "https://localhost:8080/"
        },
        "id": "z2KIKCOts7Fg",
        "outputId": "33f1f26b-4e5a-4c45-a018-d780aa5ecd00"
      },
      "execution_count": null,
      "outputs": [
        {
          "output_type": "execute_result",
          "data": {
            "text/plain": [
              "array([18, 25, 23, 12, 30])"
            ]
          },
          "metadata": {},
          "execution_count": 192
        }
      ]
    },
    {
      "cell_type": "code",
      "source": [
        "random_arr.max()"
      ],
      "metadata": {
        "colab": {
          "base_uri": "https://localhost:8080/"
        },
        "id": "Oqt2eqGctepa",
        "outputId": "20f33085-1d96-4570-938a-ee6a43ae88b1"
      },
      "execution_count": null,
      "outputs": [
        {
          "output_type": "execute_result",
          "data": {
            "text/plain": [
              "np.int64(30)"
            ]
          },
          "metadata": {},
          "execution_count": 193
        }
      ]
    },
    {
      "cell_type": "code",
      "source": [
        "random_arr.shape"
      ],
      "metadata": {
        "colab": {
          "base_uri": "https://localhost:8080/"
        },
        "id": "UsFFqB69uARr",
        "outputId": "233ffbe7-6fd6-4d8b-dfd7-e76dfbaf6419"
      },
      "execution_count": null,
      "outputs": [
        {
          "output_type": "execute_result",
          "data": {
            "text/plain": [
              "(5,)"
            ]
          },
          "metadata": {},
          "execution_count": 194
        }
      ]
    },
    {
      "cell_type": "code",
      "source": [
        "random_arr.argmin()"
      ],
      "metadata": {
        "colab": {
          "base_uri": "https://localhost:8080/"
        },
        "id": "CdzWEsOzuKnS",
        "outputId": "c501f10c-03f5-4ccb-9263-650d4084bc4e"
      },
      "execution_count": null,
      "outputs": [
        {
          "output_type": "execute_result",
          "data": {
            "text/plain": [
              "np.int64(3)"
            ]
          },
          "metadata": {},
          "execution_count": 195
        }
      ]
    },
    {
      "cell_type": "markdown",
      "source": [
        "04/07/2025"
      ],
      "metadata": {
        "id": "wMENBZHHbAjc"
      }
    },
    {
      "cell_type": "markdown",
      "source": [
        "Array and Matrix Index"
      ],
      "metadata": {
        "id": "eI_HidTIePX5"
      }
    },
    {
      "cell_type": "code",
      "source": [
        "import numpy as np\n",
        "sample_arr = np.arange(1,11)\n",
        "sample_arr"
      ],
      "metadata": {
        "id": "nApPbNLzuRjV",
        "colab": {
          "base_uri": "https://localhost:8080/"
        },
        "outputId": "2584cefa-8ed2-4974-8efa-b8d730122e23"
      },
      "execution_count": null,
      "outputs": [
        {
          "output_type": "execute_result",
          "data": {
            "text/plain": [
              "array([ 1,  2,  3,  4,  5,  6,  7,  8,  9, 10])"
            ]
          },
          "metadata": {},
          "execution_count": 196
        }
      ]
    },
    {
      "cell_type": "code",
      "source": [
        "sample_arr[2]"
      ],
      "metadata": {
        "colab": {
          "base_uri": "https://localhost:8080/"
        },
        "id": "4Ee2bmc_dqA9",
        "outputId": "38d5d4c5-9321-42ec-e9e5-64c6d77e7249"
      },
      "execution_count": null,
      "outputs": [
        {
          "output_type": "execute_result",
          "data": {
            "text/plain": [
              "np.int64(3)"
            ]
          },
          "metadata": {},
          "execution_count": 197
        }
      ]
    },
    {
      "cell_type": "code",
      "source": [
        "sample_arr[0:4]"
      ],
      "metadata": {
        "colab": {
          "base_uri": "https://localhost:8080/"
        },
        "id": "8KjZdITOd6r1",
        "outputId": "a2b3cef0-b3b5-443e-fd01-f02491f09cee"
      },
      "execution_count": null,
      "outputs": [
        {
          "output_type": "execute_result",
          "data": {
            "text/plain": [
              "array([1, 2, 3, 4])"
            ]
          },
          "metadata": {},
          "execution_count": 198
        }
      ]
    },
    {
      "cell_type": "code",
      "source": [
        "sample_mat = np.array([[1,2,3],[4,5,6],[6,7,8]])\n",
        "sample_mat"
      ],
      "metadata": {
        "colab": {
          "base_uri": "https://localhost:8080/"
        },
        "id": "Htodo3RqeBau",
        "outputId": "3813c17f-4243-4c78-bec1-f3dcb4e0d127"
      },
      "execution_count": null,
      "outputs": [
        {
          "output_type": "execute_result",
          "data": {
            "text/plain": [
              "array([[1, 2, 3],\n",
              "       [4, 5, 6],\n",
              "       [6, 7, 8]])"
            ]
          },
          "metadata": {},
          "execution_count": 199
        }
      ]
    },
    {
      "cell_type": "code",
      "source": [
        "sample_mat[0]"
      ],
      "metadata": {
        "colab": {
          "base_uri": "https://localhost:8080/"
        },
        "id": "gdgPGLJEeucM",
        "outputId": "40cc5ebb-66e9-45a5-c712-9f4f47743435"
      },
      "execution_count": null,
      "outputs": [
        {
          "output_type": "execute_result",
          "data": {
            "text/plain": [
              "array([1, 2, 3])"
            ]
          },
          "metadata": {},
          "execution_count": 200
        }
      ]
    },
    {
      "cell_type": "code",
      "source": [
        "sample_mat[1,1]"
      ],
      "metadata": {
        "colab": {
          "base_uri": "https://localhost:8080/"
        },
        "id": "iH78UFGUexx6",
        "outputId": "956aa6d5-adb6-481d-dd51-6834704b7f69"
      },
      "execution_count": null,
      "outputs": [
        {
          "output_type": "execute_result",
          "data": {
            "text/plain": [
              "np.int64(5)"
            ]
          },
          "metadata": {},
          "execution_count": 201
        }
      ]
    },
    {
      "cell_type": "code",
      "source": [
        "sample_mat[1][1]"
      ],
      "metadata": {
        "colab": {
          "base_uri": "https://localhost:8080/"
        },
        "id": "i7bCKqB4e2Xr",
        "outputId": "b5221681-d511-4aa4-ed54-8ebd976216a9"
      },
      "execution_count": null,
      "outputs": [
        {
          "output_type": "execute_result",
          "data": {
            "text/plain": [
              "np.int64(5)"
            ]
          },
          "metadata": {},
          "execution_count": 202
        }
      ]
    },
    {
      "cell_type": "code",
      "source": [
        "sample_mat[1:3,1:3]"
      ],
      "metadata": {
        "colab": {
          "base_uri": "https://localhost:8080/"
        },
        "id": "WbP60-nxfHF6",
        "outputId": "8c5270de-93d2-4822-a624-78c90e799bd8"
      },
      "execution_count": null,
      "outputs": [
        {
          "output_type": "execute_result",
          "data": {
            "text/plain": [
              "array([[5, 6],\n",
              "       [7, 8]])"
            ]
          },
          "metadata": {},
          "execution_count": 203
        }
      ]
    },
    {
      "cell_type": "code",
      "source": [
        "print(sample_mat[:2,1:])\n",
        "print(sample_mat[1,1:])\n",
        "print(sample_mat[0:5])"
      ],
      "metadata": {
        "colab": {
          "base_uri": "https://localhost:8080/"
        },
        "id": "EeG9fxxYfQ6F",
        "outputId": "7fe4063a-16f6-445a-a4ef-0abde7a88a4c"
      },
      "execution_count": null,
      "outputs": [
        {
          "output_type": "stream",
          "name": "stdout",
          "text": [
            "[[2 3]\n",
            " [5 6]]\n",
            "[5 6]\n",
            "[[1 2 3]\n",
            " [4 5 6]\n",
            " [6 7 8]]\n"
          ]
        }
      ]
    },
    {
      "cell_type": "markdown",
      "source": [
        "Broadcasting, Slice, Copy"
      ],
      "metadata": {
        "id": "_pf7t4fqgySG"
      }
    },
    {
      "cell_type": "code",
      "source": [
        "sample_arr[0:3] = 400\n",
        "sample_arr"
      ],
      "metadata": {
        "colab": {
          "base_uri": "https://localhost:8080/"
        },
        "id": "9HMsgqs5gb7Z",
        "outputId": "eafe6b28-11c3-4d60-9481-3e8ef60d5d2b"
      },
      "execution_count": null,
      "outputs": [
        {
          "output_type": "execute_result",
          "data": {
            "text/plain": [
              "array([400, 400, 400,   4,   5,   6,   7,   8,   9,  10])"
            ]
          },
          "metadata": {},
          "execution_count": 205
        }
      ]
    },
    {
      "cell_type": "code",
      "source": [
        "print(id(sample_arr[0:5]))\n",
        "slice_of_sample_arr = sample_arr[0:5]\n",
        "s = slice_of_sample_arr\n",
        "print(id(slice_of_sample_arr))\n",
        "print(id(sample_arr))\n",
        "print(id(s))"
      ],
      "metadata": {
        "colab": {
          "base_uri": "https://localhost:8080/"
        },
        "id": "5ruIHLsNhR7L",
        "outputId": "65ae5316-41cf-4288-b6f7-bc0bde917a57"
      },
      "execution_count": null,
      "outputs": [
        {
          "output_type": "stream",
          "name": "stdout",
          "text": [
            "137114642303760\n",
            "137114642303760\n",
            "137114642949552\n",
            "137114642303760\n"
          ]
        }
      ]
    },
    {
      "cell_type": "code",
      "source": [
        "slice_of_sample_arr[:] = 100\n",
        "print(slice_of_sample_arr)\n",
        "print(sample_arr)"
      ],
      "metadata": {
        "colab": {
          "base_uri": "https://localhost:8080/"
        },
        "id": "u0FLWkMjhgkq",
        "outputId": "a2415a3c-06b3-4155-d46a-02d2aef6a618"
      },
      "execution_count": null,
      "outputs": [
        {
          "output_type": "stream",
          "name": "stdout",
          "text": [
            "[100 100 100 100 100]\n",
            "[100 100 100 100 100   6   7   8   9  10]\n"
          ]
        }
      ]
    },
    {
      "cell_type": "code",
      "source": [
        "sample_arr_copy = sample_arr.copy()\n",
        "sample_arr_copy"
      ],
      "metadata": {
        "colab": {
          "base_uri": "https://localhost:8080/"
        },
        "id": "Lsxl59DBlb3u",
        "outputId": "583e7c4c-f18b-404d-f347-d1da97a2d571"
      },
      "execution_count": null,
      "outputs": [
        {
          "output_type": "execute_result",
          "data": {
            "text/plain": [
              "array([100, 100, 100, 100, 100,   6,   7,   8,   9,  10])"
            ]
          },
          "metadata": {},
          "execution_count": 208
        }
      ]
    },
    {
      "cell_type": "code",
      "source": [
        "sample_arr_copy[0:5] = 500\n",
        "print(sample_arr_copy)\n",
        "print(sample_arr)\n",
        "print(id(sample_arr_copy))\n",
        "print(id(sample_arr))"
      ],
      "metadata": {
        "colab": {
          "base_uri": "https://localhost:8080/"
        },
        "id": "f-SIJi0JmbJq",
        "outputId": "e632b352-f53a-4269-e04f-c5a75e8a47e7"
      },
      "execution_count": null,
      "outputs": [
        {
          "output_type": "stream",
          "name": "stdout",
          "text": [
            "[500 500 500 500 500   6   7   8   9  10]\n",
            "[100 100 100 100 100   6   7   8   9  10]\n",
            "137114641710800\n",
            "137114642949552\n"
          ]
        }
      ]
    },
    {
      "cell_type": "markdown",
      "source": [
        "Checking Conditions"
      ],
      "metadata": {
        "id": "B9uB2aLMpYFh"
      }
    },
    {
      "cell_type": "code",
      "source": [
        "arr = np.arange(1,11)\n",
        "arr"
      ],
      "metadata": {
        "colab": {
          "base_uri": "https://localhost:8080/"
        },
        "id": "o0Dhr4BamwMr",
        "outputId": "acb779b4-e0a3-4c13-e179-ec84b96d126b"
      },
      "execution_count": null,
      "outputs": [
        {
          "output_type": "execute_result",
          "data": {
            "text/plain": [
              "array([ 1,  2,  3,  4,  5,  6,  7,  8,  9, 10])"
            ]
          },
          "metadata": {},
          "execution_count": 210
        }
      ]
    },
    {
      "cell_type": "markdown",
      "source": [
        "Difference between arange and range funtion"
      ],
      "metadata": {
        "id": "WxoP_AVSpdGb"
      }
    },
    {
      "cell_type": "code",
      "source": [
        "boolean_arr = arr > 5\n",
        "print(boolean_arr)\n",
        "print(type(boolean_arr))"
      ],
      "metadata": {
        "colab": {
          "base_uri": "https://localhost:8080/"
        },
        "id": "kANf6qDepbOC",
        "outputId": "ac83a9bf-4399-47bb-9377-9f4357048ec6"
      },
      "execution_count": null,
      "outputs": [
        {
          "output_type": "stream",
          "name": "stdout",
          "text": [
            "[False False False False False  True  True  True  True  True]\n",
            "<class 'numpy.ndarray'>\n"
          ]
        }
      ]
    },
    {
      "cell_type": "code",
      "source": [
        "arr[boolean_arr]"
      ],
      "metadata": {
        "colab": {
          "base_uri": "https://localhost:8080/"
        },
        "id": "ZlonHK2spqaL",
        "outputId": "8df60db6-3e33-46dd-c59f-e67aeb8216c6"
      },
      "execution_count": null,
      "outputs": [
        {
          "output_type": "execute_result",
          "data": {
            "text/plain": [
              "array([ 6,  7,  8,  9, 10])"
            ]
          },
          "metadata": {},
          "execution_count": 212
        }
      ]
    },
    {
      "cell_type": "code",
      "source": [
        "arr[arr <= 5]"
      ],
      "metadata": {
        "colab": {
          "base_uri": "https://localhost:8080/"
        },
        "id": "4yohOnOWqJBR",
        "outputId": "89f09dba-f7f9-4842-9a72-ec819bd777a6"
      },
      "execution_count": null,
      "outputs": [
        {
          "output_type": "execute_result",
          "data": {
            "text/plain": [
              "array([1, 2, 3, 4, 5])"
            ]
          },
          "metadata": {},
          "execution_count": 213
        }
      ]
    },
    {
      "cell_type": "code",
      "source": [
        "a = np.arange(0,11)\n",
        "print(a)\n",
        "b = np.dot(a,100)\n",
        "print(b)"
      ],
      "metadata": {
        "colab": {
          "base_uri": "https://localhost:8080/"
        },
        "id": "LuLa6fS_uCb9",
        "outputId": "f960a645-41cb-4552-c7fd-3ab198adbf19"
      },
      "execution_count": null,
      "outputs": [
        {
          "output_type": "stream",
          "name": "stdout",
          "text": [
            "[ 0  1  2  3  4  5  6  7  8  9 10]\n",
            "[   0  100  200  300  400  500  600  700  800  900 1000]\n"
          ]
        }
      ]
    },
    {
      "cell_type": "code",
      "source": [
        "#3D Vectors\n",
        "a = np.array([1,2,3])\n",
        "b = np.array([4,5,6])\n",
        "cross_product_3d = np.cross(a,b)\n",
        "print(cross_product_3d)"
      ],
      "metadata": {
        "colab": {
          "base_uri": "https://localhost:8080/"
        },
        "id": "aWts2TG_ubOX",
        "outputId": "57d35e10-31ec-40cc-c535-cd96ef395da8"
      },
      "execution_count": null,
      "outputs": [
        {
          "output_type": "stream",
          "name": "stdout",
          "text": [
            "[-3  6 -3]\n"
          ]
        }
      ]
    },
    {
      "cell_type": "code",
      "source": [
        "#2D Vector\n",
        "x = np.array([1,2])\n",
        "y = np.array([3,4])\n",
        "cross_product = np.cross(x,y)\n",
        "print(cross_product)"
      ],
      "metadata": {
        "colab": {
          "base_uri": "https://localhost:8080/"
        },
        "id": "6nIiX4iAv_dM",
        "outputId": "a5b09b20-2b61-481f-a279-a3787821fdaa"
      },
      "execution_count": null,
      "outputs": [
        {
          "output_type": "stream",
          "name": "stdout",
          "text": [
            "-2\n"
          ]
        }
      ]
    },
    {
      "cell_type": "markdown",
      "source": [
        "Q. Implement a Bubble sort in the Python"
      ],
      "metadata": {
        "id": "7nYdJQWSxE8s"
      }
    },
    {
      "cell_type": "code",
      "source": [
        "print(a/a)"
      ],
      "metadata": {
        "colab": {
          "base_uri": "https://localhost:8080/"
        },
        "id": "PBZhKgLOwgPh",
        "outputId": "3d38f966-05e1-4db9-8d33-45e2fc2fa557"
      },
      "execution_count": null,
      "outputs": [
        {
          "output_type": "stream",
          "name": "stdout",
          "text": [
            "[1. 1. 1.]\n"
          ]
        }
      ]
    },
    {
      "cell_type": "code",
      "source": [
        "print(1/a)"
      ],
      "metadata": {
        "colab": {
          "base_uri": "https://localhost:8080/"
        },
        "id": "df4HXgBrxwUo",
        "outputId": "f7c6ecb1-f10e-4616-ca65-98e7376cbc47"
      },
      "execution_count": null,
      "outputs": [
        {
          "output_type": "stream",
          "name": "stdout",
          "text": [
            "[1.         0.5        0.33333333]\n"
          ]
        }
      ]
    },
    {
      "cell_type": "code",
      "source": [
        "import numpy\n",
        "coefficient = [12,3,4,5,10]\n",
        "polynomialExp = numpy.poly1d(coefficient)\n",
        "print(\"type of polynomial = \", type(polynomialExp))\n",
        "print(\"Polynomial expression is: \", polynomialExp)\n",
        "print(polynomialExp)\n",
        "x = 2\n",
        "result = polynomialExp(x)\n",
        "print(result)"
      ],
      "metadata": {
        "colab": {
          "base_uri": "https://localhost:8080/"
        },
        "id": "zfG1Vbo9x89Y",
        "outputId": "b23c5b99-9ac3-4a32-af87-5968ad776e4c"
      },
      "execution_count": null,
      "outputs": [
        {
          "output_type": "stream",
          "name": "stdout",
          "text": [
            "type of polynomial =  <class 'numpy.poly1d'>\n",
            "Polynomial expression is:      4     3     2\n",
            "12 x + 3 x + 4 x + 5 x + 10\n",
            "    4     3     2\n",
            "12 x + 3 x + 4 x + 5 x + 10\n",
            "252\n"
          ]
        }
      ]
    },
    {
      "cell_type": "code",
      "source": [
        "import numpy\n",
        "a = numpy.matrix(((10,20,30), (50,60,70), (11,22,33)))\n",
        "print(\"a : \\n\", a)\n",
        "b = numpy.transpose(a)\n",
        "print(\"Transpose of a : \\n\", b)"
      ],
      "metadata": {
        "colab": {
          "base_uri": "https://localhost:8080/"
        },
        "id": "JPYVBQHgzCpW",
        "outputId": "42d0e8d7-ac9d-4b4e-86f3-cab662c70e28"
      },
      "execution_count": null,
      "outputs": [
        {
          "output_type": "stream",
          "name": "stdout",
          "text": [
            "a : \n",
            " [[10 20 30]\n",
            " [50 60 70]\n",
            " [11 22 33]]\n",
            "Transpose of a : \n",
            " [[10 50 11]\n",
            " [20 60 22]\n",
            " [30 70 33]]\n"
          ]
        }
      ]
    },
    {
      "cell_type": "code",
      "source": [
        "import numpy as np\n",
        "\n",
        "# 2x2 matrix\n",
        "matrix = np.array([[1, 2], [3, 4]])\n",
        "\n",
        "determinant = np.linalg.det(matrix)\n",
        "\n",
        "print(\"Determinant of 2x2 matrix:\", determinant)\n",
        "\n",
        "# 3x3 matrix\n",
        "matrix_3x3 = np.array([[2, 4, 6], [0, -2, 1], [5, 0, 3]])\n",
        "\n",
        "determinant_3x3 = np.linalg.det(matrix_3x3)\n",
        "\n",
        "print(\"Determinant of 3x3 matrix:\", determinant_3x3)\n"
      ],
      "metadata": {
        "colab": {
          "base_uri": "https://localhost:8080/"
        },
        "id": "5u01hbJ4z-mU",
        "outputId": "aa15bdb6-cea5-4c55-9114-b8caef2e3fad"
      },
      "execution_count": null,
      "outputs": [
        {
          "output_type": "stream",
          "name": "stdout",
          "text": [
            "Determinant of 2x2 matrix: -2.0000000000000004\n",
            "Determinant of 3x3 matrix: 67.99999999999996\n"
          ]
        }
      ]
    },
    {
      "cell_type": "code",
      "source": [
        "#Identity Matrix\n",
        "a = numpy.identity(10)\n",
        "print(type(a))\n",
        "print(f\"10x10 Identity Matrix:{a}\")"
      ],
      "metadata": {
        "colab": {
          "base_uri": "https://localhost:8080/"
        },
        "id": "H07UtnaL0tGI",
        "outputId": "0130cfd0-674c-4f06-b0e7-6dfd244ebd0b"
      },
      "execution_count": null,
      "outputs": [
        {
          "output_type": "stream",
          "name": "stdout",
          "text": [
            "<class 'numpy.ndarray'>\n",
            "10x10 Identity Matrix:[[1. 0. 0. 0. 0. 0. 0. 0. 0. 0.]\n",
            " [0. 1. 0. 0. 0. 0. 0. 0. 0. 0.]\n",
            " [0. 0. 1. 0. 0. 0. 0. 0. 0. 0.]\n",
            " [0. 0. 0. 1. 0. 0. 0. 0. 0. 0.]\n",
            " [0. 0. 0. 0. 1. 0. 0. 0. 0. 0.]\n",
            " [0. 0. 0. 0. 0. 1. 0. 0. 0. 0.]\n",
            " [0. 0. 0. 0. 0. 0. 1. 0. 0. 0.]\n",
            " [0. 0. 0. 0. 0. 0. 0. 1. 0. 0.]\n",
            " [0. 0. 0. 0. 0. 0. 0. 0. 1. 0.]\n",
            " [0. 0. 0. 0. 0. 0. 0. 0. 0. 1.]]\n"
          ]
        }
      ]
    },
    {
      "cell_type": "code",
      "source": [
        "a = numpy.matrix(((10,20,30,40),(50,60,70,80),(90,100,110,120),(2,3,4,5)))\n",
        "b = numpy.hsplit(a,2)\n",
        "print('a : \\n',a)\n",
        "print('b : \\n',b)\n",
        "c = b[0]\n",
        "print('c : \\n',c)\n",
        "d = b[1]\n",
        "print('d : \\n',d)\n",
        "e = numpy.vsplit(c,2)\n",
        "print('e : \\n',e)\n",
        "f = numpy.vsplit(d,2)\n",
        "print('f : \\n',f)"
      ],
      "metadata": {
        "colab": {
          "base_uri": "https://localhost:8080/"
        },
        "id": "HYvt07s12Bvp",
        "outputId": "f26f47be-f318-4e6a-c352-761ca9219d28"
      },
      "execution_count": null,
      "outputs": [
        {
          "output_type": "stream",
          "name": "stdout",
          "text": [
            "a : \n",
            " [[ 10  20  30  40]\n",
            " [ 50  60  70  80]\n",
            " [ 90 100 110 120]\n",
            " [  2   3   4   5]]\n",
            "b : \n",
            " [matrix([[ 10,  20],\n",
            "        [ 50,  60],\n",
            "        [ 90, 100],\n",
            "        [  2,   3]]), matrix([[ 30,  40],\n",
            "        [ 70,  80],\n",
            "        [110, 120],\n",
            "        [  4,   5]])]\n",
            "c : \n",
            " [[ 10  20]\n",
            " [ 50  60]\n",
            " [ 90 100]\n",
            " [  2   3]]\n",
            "d : \n",
            " [[ 30  40]\n",
            " [ 70  80]\n",
            " [110 120]\n",
            " [  4   5]]\n",
            "e : \n",
            " [matrix([[10, 20],\n",
            "        [50, 60]]), matrix([[ 90, 100],\n",
            "        [  2,   3]])]\n",
            "f : \n",
            " [matrix([[30, 40],\n",
            "        [70, 80]]), matrix([[110, 120],\n",
            "        [  4,   5]])]\n"
          ]
        }
      ]
    },
    {
      "cell_type": "code",
      "source": [],
      "metadata": {
        "id": "xBXlyuNq2bHR"
      },
      "execution_count": null,
      "outputs": []
    }
  ]
}