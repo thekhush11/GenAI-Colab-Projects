{
  "nbformat": 4,
  "nbformat_minor": 0,
  "metadata": {
    "colab": {
      "provenance": [],
      "authorship_tag": "ABX9TyO1qYfd/VrMdzCkd3EILUjj",
      "include_colab_link": true
    },
    "kernelspec": {
      "name": "python3",
      "display_name": "Python 3"
    },
    "language_info": {
      "name": "python"
    }
  },
  "cells": [
    {
      "cell_type": "markdown",
      "metadata": {
        "id": "view-in-github",
        "colab_type": "text"
      },
      "source": [
        "<a href=\"https://colab.research.google.com/github/thekhush11/GenAI-Colab-Projects/blob/main/Sentiment_Analysis_Using_RNN.ipynb\" target=\"_parent\"><img src=\"https://colab.research.google.com/assets/colab-badge.svg\" alt=\"Open In Colab\"/></a>"
      ]
    },
    {
      "cell_type": "markdown",
      "source": [
        "24/07/2025"
      ],
      "metadata": {
        "id": "aTIKxVmY45pt"
      }
    },
    {
      "cell_type": "code",
      "execution_count": null,
      "metadata": {
        "id": "oOrVuNTIcmCW"
      },
      "outputs": [],
      "source": [
        "#RNN - It is used for sequential data(like - text, audio, video)."
      ]
    },
    {
      "cell_type": "code",
      "source": [
        "import tensorflow as tf\n",
        "from tensorflow.keras import models, layers, preprocessing\n",
        "import matplotlib.pyplot as plt\n",
        "import numpy as np"
      ],
      "metadata": {
        "id": "4wWz8gs4dqXA"
      },
      "execution_count": null,
      "outputs": []
    },
    {
      "cell_type": "code",
      "source": [
        "#Define a vocab_size\n",
        "vocab_size = 880000\n",
        "mx_l = 1000"
      ],
      "metadata": {
        "id": "XMOXp1T7eFr9"
      },
      "execution_count": null,
      "outputs": []
    },
    {
      "cell_type": "code",
      "source": [
        "#load Dataset\n",
        "(x_train, y_train), (x_test, y_test) = tf.keras.datasets.imdb.load_data(num_words = vocab_size)"
      ],
      "metadata": {
        "id": "9wSvFQKieYiO"
      },
      "execution_count": null,
      "outputs": []
    },
    {
      "cell_type": "code",
      "source": [
        "print(x_test.shape)\n",
        "print(x_test.shape)"
      ],
      "metadata": {
        "colab": {
          "base_uri": "https://localhost:8080/"
        },
        "id": "W1WUlOAAfkpN",
        "outputId": "64dc17bb-8129-44e9-90d7-e1428cbab817"
      },
      "execution_count": null,
      "outputs": [
        {
          "output_type": "stream",
          "name": "stdout",
          "text": [
            "(25000,)\n",
            "(25000,)\n"
          ]
        }
      ]
    },
    {
      "cell_type": "code",
      "source": [
        "x_train = preprocessing.sequence.pad_sequences(x_train, maxlen = mx_l)\n",
        "x_test = preprocessing.sequence.pad_sequences(x_test, maxlen = mx_l)"
      ],
      "metadata": {
        "id": "LewFwBzFfpO1"
      },
      "execution_count": null,
      "outputs": []
    },
    {
      "cell_type": "code",
      "source": [
        "#Creat RNN Model\n",
        "model = models.Sequential([\n",
        "    layers.Embedding(input_dim = vocab_size, output_dim = 128, input_length = mx_l),\n",
        "    layers.SimpleRNN(units = 128, return_sequences = False),\n",
        "    layers.Dense(units = 1, activation = 'sigmoid')\n",
        "])"
      ],
      "metadata": {
        "colab": {
          "base_uri": "https://localhost:8080/"
        },
        "id": "rYpd9v_Jh8a5",
        "outputId": "e2c6a22e-d249-4244-981c-5f5577866e86"
      },
      "execution_count": null,
      "outputs": [
        {
          "output_type": "stream",
          "name": "stderr",
          "text": [
            "/usr/local/lib/python3.11/dist-packages/keras/src/layers/core/embedding.py:90: UserWarning: Argument `input_length` is deprecated. Just remove it.\n",
            "  warnings.warn(\n"
          ]
        }
      ]
    },
    {
      "cell_type": "code",
      "source": [
        "model.compile(optimizer = 'adam', loss = 'binary_crossentropy', metrics = ['accuracy'])"
      ],
      "metadata": {
        "id": "xlpr4Au1jC-M"
      },
      "execution_count": null,
      "outputs": []
    },
    {
      "cell_type": "code",
      "source": [
        "m1 = model.fit(x_train, y_train, epochs = 1, batch_size = 64, validation_data = (x_test, y_test), verbose = 1)"
      ],
      "metadata": {
        "colab": {
          "base_uri": "https://localhost:8080/"
        },
        "id": "U1FuTNqSj_30",
        "outputId": "3be58d80-3b4a-4863-9dcd-5ce3050de707"
      },
      "execution_count": null,
      "outputs": [
        {
          "output_type": "stream",
          "name": "stdout",
          "text": [
            "\u001b[1m391/391\u001b[0m \u001b[32m━━━━━━━━━━━━━━━━━━━━\u001b[0m\u001b[37m\u001b[0m \u001b[1m910s\u001b[0m 2s/step - accuracy: 0.8132 - loss: 0.4164 - val_accuracy: 0.7635 - val_loss: 0.5178\n"
          ]
        }
      ]
    },
    {
      "cell_type": "code",
      "source": [
        "#Evaluate the Model\n",
        "test_loss, acc = model.evaluate(x_test, y_test)\n",
        "print(acc)"
      ],
      "metadata": {
        "colab": {
          "base_uri": "https://localhost:8080/"
        },
        "id": "C3vzyPDcoiSp",
        "outputId": "5558cb1f-6d35-41b3-95bc-2162e7014bd3"
      },
      "execution_count": null,
      "outputs": [
        {
          "output_type": "stream",
          "name": "stdout",
          "text": [
            "\u001b[1m782/782\u001b[0m \u001b[32m━━━━━━━━━━━━━━━━━━━━\u001b[0m\u001b[37m\u001b[0m \u001b[1m73s\u001b[0m 94ms/step - accuracy: 0.7601 - loss: 0.5238\n",
            "0.763480007648468\n"
          ]
        }
      ]
    },
    {
      "cell_type": "code",
      "source": [
        "wor_to_idx = tf.keras.datasets.imdb.get_word_index()\n",
        "idx_to_wor = {value: key for (key, value) in wor_to_idx.items()}"
      ],
      "metadata": {
        "colab": {
          "base_uri": "https://localhost:8080/"
        },
        "id": "dctJ81S4salB",
        "outputId": "2ab9b3a5-b535-4042-a1cb-c5e23b4d7c8b"
      },
      "execution_count": null,
      "outputs": [
        {
          "output_type": "stream",
          "name": "stdout",
          "text": [
            "Downloading data from https://storage.googleapis.com/tensorflow/tf-keras-datasets/imdb_word_index.json\n",
            "\u001b[1m1641221/1641221\u001b[0m \u001b[32m━━━━━━━━━━━━━━━━━━━━\u001b[0m\u001b[37m\u001b[0m \u001b[1m0s\u001b[0m 0us/step\n"
          ]
        }
      ]
    },
    {
      "cell_type": "code",
      "source": [
        "#Create a function for encode any text\n",
        "\n",
        "def encode_text(text):\n",
        "  if isinstance(text, list):\n",
        "    text = \" \".join(text)\n",
        "  import string\n",
        "  text = text.lower().translate(str.maketrans('', '', string.punctuation))\n",
        "  s = text.split()\n",
        "\n",
        "  text1 =[]\n",
        "  for i in s:\n",
        "      idx = wor_to_idx.get(i, 0)\n",
        "      if idx >= vocab_size:\n",
        "        idx = 1\n",
        "\n",
        "      text1.append(idx)\n",
        "  return preprocessing.sequence.pad_sequences([text1], maxlen = mx_l, padding = 'post')"
      ],
      "metadata": {
        "id": "iJaI3pjptVbF"
      },
      "execution_count": null,
      "outputs": []
    },
    {
      "cell_type": "code",
      "source": [
        "review = [\"Director Amelia Vance's latest psychological thriller, 'The Whispering Woods', released in 2024, explores the raw depths of grief and paranoia against a breathtakingly sinister natural backdrop. The film, led by a captivating performance from Elara Finch as the reclusive protagonist, delivers a chilling experience that, while occasionally slow-paced, ultimately resonates with a haunting intensity. \",\n",
        "          \"Review Christopher Nolan's Oppenheimer (2023). Focus on Cillian Murphy's portrayal of J. Robert Oppenheimer. How does the film depict his character's internal conflicts, ambitions, and the moral weight of his work? Discuss how Oppenheimer's choices and the historical context shape the overall message or themes of the movie.\",\n",
        "          \"Analyze Yorgos Lanthimos' Poor Things (2023). Discuss the central themes, such as freedom, self-discovery, societal expectations, and the nature of humanity, as embodied by Bella Baxter's journey. Additionally, examine how the film's unique visual style, including its cinematography (e.g., use of color, wide lenses) and production design, contribute to the narrative and its exploration of these themes.\"\n",
        "          \"Review Greta Gerwig's Barbie (2023). Explore the film's core messages about feminism, patriarchy, and societal expectations for women. How does the movie use humor and satire to convey these messages? Analyze the character arc of Barbie and Ken, and discuss the film's stance on gender roles and empowerment in contemporary society.\"\n",
        "          \"Some viewers found the film's 3-hour length excessive and the pacing slow or tedious at times.\"\n",
        "          \"The frequent time jumps and dense dialogue, particularly in the political sections, made the narrative difficult to follow for some audience members.\"\n",
        "          \"The background music was sometimes perceived as too loud and intrusive, occasionally drowning out the dialogue, making it hard to comprehend what was being said.\"\n",
        "          \"Some critics felt the film was emotionally detached, failing to fully explore the psychological impact on Oppenheimer and other characters.\"]"
      ],
      "metadata": {
        "id": "WixC9svLtHfw"
      },
      "execution_count": null,
      "outputs": []
    },
    {
      "cell_type": "code",
      "source": [
        "re_encode = encode_text(review)\n",
        "print(re_encode)\n",
        "prediction = model.predict(re_encode)\n",
        "print(prediction)\n",
        "if prediction > 0.8:\n",
        "  print(\"Strongly Positive\")\n",
        "else:\n",
        "  print(\"Positive\")"
      ],
      "metadata": {
        "colab": {
          "base_uri": "https://localhost:8080/"
        },
        "id": "SQ5WNqpFx8pg",
        "outputId": "c0b7e745-d411-4ad1-8d47-18e0ebfe9d5d"
      },
      "execution_count": null,
      "outputs": [
        {
          "output_type": "stream",
          "name": "stdout",
          "text": [
            "[[  164 27494 45131  2481  1984   705     1 23878  1408   623     8     0\n",
            "   5641     1  2818  6369     4  5161     2  4578   426     3 14831  2947\n",
            "   1246  4154     1    19  1635    31     3  3723   236    36     0 10104\n",
            "     14     1 17947  2308  1542     3  2857   582    12   134  2033     0\n",
            "   1113 14898    16     3  2296  3030   730  1365     0 38099 82058  1149\n",
            "     20  9435 51093  1143     4  1465   667 38099    86   124     1    19\n",
            "   6354    24   102  6174  4541  7124     2     1  1512  3321     4    24\n",
            "    154  4111    86     0  2834     2     1  1376  2005  2992     1   441\n",
            "    746    39  1323     4     1    17  8665 86239     0   335   180 82058\n",
            "   4111     1  1372  1323   138    14  2201     0  9657  1395     2     1\n",
            "    873     4  1943    14 15637    31 28574     0  1308  7056  8299    86\n",
            "      1   105   952  1111   402   584    91   624 10830   358     4  1396\n",
            "   1873 16638     2   362  1589  6555     5     1  1318     2    91  4662\n",
            "      4   131     0  9831     0 13901 82058  3736     1   105  2023  3453\n",
            "     41 11621 30914     2  9657  1395    15   369    86   124     1    17\n",
            "    358   483     2  2003     5  2830   131  3453  8665     1   106  6789\n",
            "      4 13901     2  3659     2  4111     1   105  7196    20  4669   552\n",
            "      2 17078     8  2389     0   794   255     1   105     0  1612  4782\n",
            "      2     1  1791   547    39  2329    30     0  4849    55  2977     2\n",
            "   9542   411   569     8     1   990  8081    90     1  1318   875     5\n",
            "    791    15    46   308     0   975   225    13   515  8958    14    96\n",
            "   1289     2 10169  2033  7880    43     1   411   228     9   251     5\n",
            "   6682    48    13   109     0  1415   418     1    19    13  2145  8141\n",
            "   3715     5  1311  3736     1  1984  1485    20 38099     2    82   102\n",
            "      0     0     0     0     0     0     0     0     0     0     0     0\n",
            "      0     0     0     0     0     0     0     0     0     0     0     0\n",
            "      0     0     0     0     0     0     0     0     0     0     0     0\n",
            "      0     0     0     0     0     0     0     0     0     0     0     0\n",
            "      0     0     0     0     0     0     0     0     0     0     0     0\n",
            "      0     0     0     0     0     0     0     0     0     0     0     0\n",
            "      0     0     0     0     0     0     0     0     0     0     0     0\n",
            "      0     0     0     0     0     0     0     0     0     0     0     0\n",
            "      0     0     0     0     0     0     0     0     0     0     0     0\n",
            "      0     0     0     0     0     0     0     0     0     0     0     0\n",
            "      0     0     0     0     0     0     0     0     0     0     0     0\n",
            "      0     0     0     0     0     0     0     0     0     0     0     0\n",
            "      0     0     0     0     0     0     0     0     0     0     0     0\n",
            "      0     0     0     0     0     0     0     0     0     0     0     0\n",
            "      0     0     0     0     0     0     0     0     0     0     0     0\n",
            "      0     0     0     0     0     0     0     0     0     0     0     0\n",
            "      0     0     0     0     0     0     0     0     0     0     0     0\n",
            "      0     0     0     0     0     0     0     0     0     0     0     0\n",
            "      0     0     0     0     0     0     0     0     0     0     0     0\n",
            "      0     0     0     0     0     0     0     0     0     0     0     0\n",
            "      0     0     0     0     0     0     0     0     0     0     0     0\n",
            "      0     0     0     0     0     0     0     0     0     0     0     0\n",
            "      0     0     0     0     0     0     0     0     0     0     0     0\n",
            "      0     0     0     0     0     0     0     0     0     0     0     0\n",
            "      0     0     0     0     0     0     0     0     0     0     0     0\n",
            "      0     0     0     0     0     0     0     0     0     0     0     0\n",
            "      0     0     0     0     0     0     0     0     0     0     0     0\n",
            "      0     0     0     0     0     0     0     0     0     0     0     0\n",
            "      0     0     0     0     0     0     0     0     0     0     0     0\n",
            "      0     0     0     0     0     0     0     0     0     0     0     0\n",
            "      0     0     0     0     0     0     0     0     0     0     0     0\n",
            "      0     0     0     0     0     0     0     0     0     0     0     0\n",
            "      0     0     0     0     0     0     0     0     0     0     0     0\n",
            "      0     0     0     0     0     0     0     0     0     0     0     0\n",
            "      0     0     0     0     0     0     0     0     0     0     0     0\n",
            "      0     0     0     0     0     0     0     0     0     0     0     0\n",
            "      0     0     0     0     0     0     0     0     0     0     0     0\n",
            "      0     0     0     0     0     0     0     0     0     0     0     0\n",
            "      0     0     0     0     0     0     0     0     0     0     0     0\n",
            "      0     0     0     0     0     0     0     0     0     0     0     0\n",
            "      0     0     0     0     0     0     0     0     0     0     0     0\n",
            "      0     0     0     0     0     0     0     0     0     0     0     0\n",
            "      0     0     0     0     0     0     0     0     0     0     0     0\n",
            "      0     0     0     0     0     0     0     0     0     0     0     0\n",
            "      0     0     0     0     0     0     0     0     0     0     0     0\n",
            "      0     0     0     0     0     0     0     0     0     0     0     0\n",
            "      0     0     0     0     0     0     0     0     0     0     0     0\n",
            "      0     0     0     0     0     0     0     0     0     0     0     0\n",
            "      0     0     0     0     0     0     0     0     0     0     0     0\n",
            "      0     0     0     0     0     0     0     0     0     0     0     0\n",
            "      0     0     0     0     0     0     0     0     0     0     0     0\n",
            "      0     0     0     0     0     0     0     0     0     0     0     0\n",
            "      0     0     0     0     0     0     0     0     0     0     0     0\n",
            "      0     0     0     0     0     0     0     0     0     0     0     0\n",
            "      0     0     0     0     0     0     0     0     0     0     0     0\n",
            "      0     0     0     0     0     0     0     0     0     0     0     0\n",
            "      0     0     0     0     0     0     0     0     0     0     0     0\n",
            "      0     0     0     0     0     0     0     0     0     0     0     0\n",
            "      0     0     0     0     0     0     0     0     0     0     0     0\n",
            "      0     0     0     0]]\n",
            "\u001b[1m1/1\u001b[0m \u001b[32m━━━━━━━━━━━━━━━━━━━━\u001b[0m\u001b[37m\u001b[0m \u001b[1m0s\u001b[0m 69ms/step\n",
            "[[0.9737086]]\n",
            "Strongly Positive\n"
          ]
        }
      ]
    },
    {
      "cell_type": "code",
      "source": [],
      "metadata": {
        "id": "y1YORM7z0cWB"
      },
      "execution_count": null,
      "outputs": []
    }
  ]
}